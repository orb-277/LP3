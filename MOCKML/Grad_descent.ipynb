{
 "cells": [
  {
   "cell_type": "code",
   "execution_count": 1,
   "id": "ca6bb737",
   "metadata": {},
   "outputs": [],
   "source": [
    "def objective(x):\n",
    "    return (x+3)**2\n",
    "    "
   ]
  },
  {
   "cell_type": "code",
   "execution_count": 2,
   "id": "1c9b8803",
   "metadata": {},
   "outputs": [],
   "source": [
    "\n",
    "\n",
    "def derivative(x):\n",
    "    return 2*(x+3)\n",
    "\n"
   ]
  },
  {
   "cell_type": "code",
   "execution_count": 7,
   "id": "4b8cfa5e",
   "metadata": {},
   "outputs": [],
   "source": [
    "def grad_descent(max_iters:int,lr:float,start:float):\n",
    "    x = start\n",
    "    for i in range(max_iters):\n",
    "        x = x - lr*derivative(x)\n",
    "    return x\n"
   ]
  },
  {
   "cell_type": "code",
   "execution_count": 8,
   "id": "bb81d00a",
   "metadata": {},
   "outputs": [
    {
     "data": {
      "text/plain": [
       "-2.993810299803573"
      ]
     },
     "execution_count": 8,
     "metadata": {},
     "output_type": "execute_result"
    }
   ],
   "source": [
    "grad_descent(30,0.1,2)"
   ]
  },
  {
   "cell_type": "code",
   "execution_count": null,
   "id": "14d744e5",
   "metadata": {},
   "outputs": [],
   "source": []
  }
 ],
 "metadata": {
  "kernelspec": {
   "display_name": "tf2",
   "language": "python",
   "name": "tf2"
  },
  "language_info": {
   "codemirror_mode": {
    "name": "ipython",
    "version": 3
   },
   "file_extension": ".py",
   "mimetype": "text/x-python",
   "name": "python",
   "nbconvert_exporter": "python",
   "pygments_lexer": "ipython3",
   "version": "3.9.16"
  }
 },
 "nbformat": 4,
 "nbformat_minor": 5
}
